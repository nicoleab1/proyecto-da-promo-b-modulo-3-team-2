{
 "cells": [
  {
   "cell_type": "code",
   "execution_count": 6,
   "metadata": {},
   "outputs": [],
   "source": [
    "# Importar librería para la conexión con MySQL\n",
    "# -----------------------------------------------------------------------\n",
    "import mysql.connector\n",
    "from mysql.connector import errorcode\n",
    "\n",
    "\n",
    "# Importar librerías para manipulación y análisis de datos\n",
    "# -----------------------------------------------------------------------\n",
    "import pandas as pd"
   ]
  },
  {
   "cell_type": "code",
   "execution_count": 7,
   "metadata": {},
   "outputs": [
    {
     "name": "stdout",
     "output_type": "stream",
     "text": [
      "MySQLCursor: CREATE DATABASE IF NOT EXISTS ABCemploye..\n"
     ]
    }
   ],
   "source": [
    "# Creamos Schema ABC EMPLOYEES\n",
    "cnx = mysql.connector.connect(\n",
    "    user='root', \n",
    "    password='AlumnaAdalab',\n",
    "    host= '127.0.0.1',\n",
    "    port=3306\n",
    ")\n",
    "\n",
    "mycursor = cnx.cursor()\n",
    "try:\n",
    "    mycursor.execute(\"CREATE DATABASE IF NOT EXISTS ABCemployees\")\n",
    "    print(mycursor)\n",
    "except mysql.connector.Error as err:\n",
    "    print(err)\n",
    "    print(\"Error Code:\", err.errno)\n",
    "    print(\"SQLSTATE\", err.sqlstate)\n",
    "    print(\"Message\", err.msg) \n",
    "\n",
    "cnx.close()"
   ]
  },
  {
   "cell_type": "code",
   "execution_count": 8,
   "metadata": {},
   "outputs": [
    {
     "name": "stdout",
     "output_type": "stream",
     "text": [
      "MySQLCursor: CREATE TABLE personal_data (employee_id ..\n"
     ]
    }
   ],
   "source": [
    "# Creamos la tabla de personal_data\n",
    "\n",
    "cnx = mysql.connector.connect(\n",
    "    user='root', \n",
    "    password='AlumnaAdalab',\n",
    "    host= '127.0.0.1', database = \"ABCemployees\",\n",
    "    port=3306\n",
    ")\n",
    "\n",
    "mycursor = cnx.cursor()\n",
    "table_personal_data = (\"CREATE TABLE personal_data (employee_id INT PRIMARY KEY, gender VARCHAR(10), education INT, education_field VARCHAR(50), marital_status VARCHAR(20), num_companies_worked INT, date_birth DATE);\")\n",
    "\n",
    "try:\n",
    "    mycursor.execute(table_personal_data)\n",
    "    \n",
    "                                            \n",
    "    print(mycursor)\n",
    "except mysql.connector.Error as err:\n",
    "    print(err)\n",
    "    print(\"Error Code:\", err.errno)\n",
    "    print(\"SQLSTATE\", err.sqlstate)\n",
    "    print(\"Message\", err.msg)\n",
    "cnx.close()\n",
    "\n"
   ]
  },
  {
   "cell_type": "code",
   "execution_count": 9,
   "metadata": {},
   "outputs": [
    {
     "name": "stdout",
     "output_type": "stream",
     "text": [
      "MySQLCursor: CREATE TABLE roles ( employee_id INT PRI..\n"
     ]
    }
   ],
   "source": [
    "# Creamos la tabla de personal_data\n",
    "\n",
    "cnx = mysql.connector.connect(\n",
    "    user='root', \n",
    "    password='AlumnaAdalab',\n",
    "    host= '127.0.0.1', database = \"ABCemployees\",\n",
    "    port=3306\n",
    ")\n",
    "\n",
    "mycursor = cnx.cursor()\n",
    "table_personal_data = (\"CREATE TABLE roles ( employee_id INT PRIMARY KEY, depart VARCHAR(50), job_level INT, job_role VARCHAR(50), role_department VARCHAR(50), environment_satisfaction INT, job_satisfaction INT, relationship_satisfaction INT, work_life_balance INT);\")\n",
    "\n",
    "try:\n",
    "    mycursor.execute(table_personal_data)\n",
    "    \n",
    "                                            \n",
    "    print(mycursor)\n",
    "except mysql.connector.Error as err:\n",
    "    print(err)\n",
    "    print(\"Error Code:\", err.errno)\n",
    "    print(\"SQLSTATE\", err.sqlstate)\n",
    "    print(\"Message\", err.msg)\n",
    "cnx.close()"
   ]
  },
  {
   "cell_type": "code",
   "execution_count": null,
   "metadata": {},
   "outputs": [],
   "source": [
    "# Creamos la tabla de personal_data\n",
    "\n",
    "cnx = mysql.connector.connect(\n",
    "    user='root', \n",
    "    password='AlumnaAdalab',\n",
    "    host= '127.0.0.1', database = \"ABCemployees\",\n",
    "    port=3306\n",
    ")\n",
    "\n",
    "mycursor = cnx.cursor()\n",
    "table_personal_data = (\"CREATE TABLE salary_table (employee_id INT PRIMARY KEY, daily_rate INT, hourly_rate INT, monthly_income INT, monthly_rate INT, environment_satisfaction INT, job_satisfaction INT, relationship_satisfaction INT, work_life_balance INT);\")\n",
    "\n",
    "try:\n",
    "    mycursor.execute(table_personal_data)\n",
    "    \n",
    "                                            \n",
    "    print(mycursor)\n",
    "except mysql.connector.Error as err:\n",
    "    print(err)\n",
    "    print(\"Error Code:\", err.errno)\n",
    "    print(\"SQLSTATE\", err.sqlstate)\n",
    "    print(\"Message\", err.msg)\n",
    "cnx.close()"
   ]
  }
 ],
 "metadata": {
  "kernelspec": {
   "display_name": "Python 3",
   "language": "python",
   "name": "python3"
  },
  "language_info": {
   "codemirror_mode": {
    "name": "ipython",
    "version": 3
   },
   "file_extension": ".py",
   "mimetype": "text/x-python",
   "name": "python",
   "nbconvert_exporter": "python",
   "pygments_lexer": "ipython3",
   "version": "3.11.9"
  }
 },
 "nbformat": 4,
 "nbformat_minor": 2
}
