{
 "cells": [
  {
   "cell_type": "code",
   "execution_count": 10,
   "metadata": {},
   "outputs": [
    {
     "name": "stdout",
     "output_type": "stream",
     "text": [
      "Requirement already satisfied: sqlalchemy in c:\\users\\trico\\appdata\\local\\packages\\pythonsoftwarefoundation.python.3.11_qbz5n2kfra8p0\\localcache\\local-packages\\python311\\site-packages (2.0.31)\n",
      "Requirement already satisfied: typing-extensions>=4.6.0 in c:\\users\\trico\\appdata\\local\\packages\\pythonsoftwarefoundation.python.3.11_qbz5n2kfra8p0\\localcache\\local-packages\\python311\\site-packages (from sqlalchemy) (4.11.0)\n",
      "Requirement already satisfied: greenlet!=0.4.17 in c:\\users\\trico\\appdata\\local\\packages\\pythonsoftwarefoundation.python.3.11_qbz5n2kfra8p0\\localcache\\local-packages\\python311\\site-packages (from sqlalchemy) (3.0.3)\n",
      "Note: you may need to restart the kernel to use updated packages.\n"
     ]
    },
    {
     "name": "stderr",
     "output_type": "stream",
     "text": [
      "\n",
      "[notice] A new release of pip is available: 24.0 -> 24.2\n",
      "[notice] To update, run: C:\\Users\\trico\\AppData\\Local\\Microsoft\\WindowsApps\\PythonSoftwareFoundation.Python.3.11_qbz5n2kfra8p0\\python.exe -m pip install --upgrade pip\n"
     ]
    }
   ],
   "source": [
    "pip install sqlalchemy"
   ]
  },
  {
   "cell_type": "code",
   "execution_count": 6,
   "metadata": {},
   "outputs": [],
   "source": [
    "# Importar librería para la conexión con MySQL\n",
    "# -----------------------------------------------------------------------\n",
    "import mysql.connector\n",
    "from mysql.connector import errorcode\n",
    "from sqlalchemy import create_engine\n",
    "\n",
    "\n",
    "# Importar librerías para manipulación y análisis de datos\n",
    "# -----------------------------------------------------------------------\n",
    "import pandas as pd"
   ]
  },
  {
   "cell_type": "code",
   "execution_count": 7,
   "metadata": {},
   "outputs": [
    {
     "name": "stdout",
     "output_type": "stream",
     "text": [
      "MySQLCursor: CREATE DATABASE IF NOT EXISTS ABCemploye..\n"
     ]
    }
   ],
   "source": [
    "# Creamos Schema ABC EMPLOYEES\n",
    "cnx = mysql.connector.connect(\n",
    "    user='root', \n",
    "    password='AlumnaAdalab',\n",
    "    host= '127.0.0.1',\n",
    "    port=3306\n",
    ")\n",
    "\n",
    "mycursor = cnx.cursor()\n",
    "try:\n",
    "    mycursor.execute(\"CREATE DATABASE IF NOT EXISTS ABCemployees\")\n",
    "    print(mycursor)\n",
    "except mysql.connector.Error as err:\n",
    "    print(err)\n",
    "    print(\"Error Code:\", err.errno)\n",
    "    print(\"SQLSTATE\", err.sqlstate)\n",
    "    print(\"Message\", err.msg) \n",
    "\n",
    "cnx.close()"
   ]
  },
  {
   "cell_type": "code",
   "execution_count": 8,
   "metadata": {},
   "outputs": [
    {
     "name": "stdout",
     "output_type": "stream",
     "text": [
      "MySQLCursor: CREATE TABLE personal_data (employee_id ..\n"
     ]
    }
   ],
   "source": [
    "# Creamos la tabla de personal_data\n",
    "\n",
    "cnx = mysql.connector.connect(\n",
    "    user='root', \n",
    "    password='AlumnaAdalab',\n",
    "    host= '127.0.0.1', database = \"ABCemployees\",\n",
    "    port=3306\n",
    ")\n",
    "\n",
    "mycursor = cnx.cursor()\n",
    "personal_data = (\"CREATE TABLE personal_data (employee_id INT PRIMARY KEY, gender VARCHAR(10), education INT, education_field VARCHAR(50), marital_status VARCHAR(20), num_companies_worked INT, date_birth DATE);\")\n",
    "\n",
    "try:\n",
    "    mycursor.execute(personal_data)\n",
    "    \n",
    "                                            \n",
    "    print(mycursor)\n",
    "except mysql.connector.Error as err:\n",
    "    print(err)\n",
    "    print(\"Error Code:\", err.errno)\n",
    "    print(\"SQLSTATE\", err.sqlstate)\n",
    "    print(\"Message\", err.msg)\n",
    "cnx.close()\n",
    "\n"
   ]
  },
  {
   "cell_type": "code",
   "execution_count": 9,
   "metadata": {},
   "outputs": [
    {
     "name": "stdout",
     "output_type": "stream",
     "text": [
      "MySQLCursor: CREATE TABLE roles ( employee_id INT PRI..\n"
     ]
    }
   ],
   "source": [
    "# Creamos la tabla de roles\n",
    "\n",
    "cnx = mysql.connector.connect(\n",
    "    user='root', \n",
    "    password='AlumnaAdalab',\n",
    "    host= '127.0.0.1', database = \"ABCemployees\",\n",
    "    port=3306\n",
    ")\n",
    "\n",
    "mycursor = cnx.cursor()\n",
    "roles = (\"CREATE TABLE roles ( employee_id INT PRIMARY KEY, department VARCHAR(50), job_level INT, job_role VARCHAR(50), role_department VARCHAR(50));\")\n",
    "\n",
    "try:\n",
    "    mycursor.execute(roles)\n",
    "    \n",
    "                                            \n",
    "    print(mycursor)\n",
    "except mysql.connector.Error as err:\n",
    "    print(err)\n",
    "    print(\"Error Code:\", err.errno)\n",
    "    print(\"SQLSTATE\", err.sqlstate)\n",
    "    print(\"Message\", err.msg)\n",
    "cnx.close()"
   ]
  },
  {
   "cell_type": "code",
   "execution_count": null,
   "metadata": {},
   "outputs": [],
   "source": [
    "# Creamos la tabla salary_table\n",
    "cnx = mysql.connector.connect(\n",
    "    user='root', \n",
    "    password='AlumnaAdalab',\n",
    "    host= '127.0.0.1', database = \"ABCemployees\",\n",
    "    port=3306\n",
    ")\n",
    "\n",
    "mycursor = cnx.cursor()\n",
    "salary_table = (\"CREATE TABLE salary_table (employee_id INT PRIMARY KEY, daily_rate FLOAT, hourly_rate VARCHAR(20), monthly_income VARCHAR(20), monthly_rate INT, percent_salary_hike INT);\")\n",
    "\n",
    "try:\n",
    "    mycursor.execute(salary_table)\n",
    "    \n",
    "                                            \n",
    "    print(mycursor)\n",
    "except mysql.connector.Error as err:\n",
    "    print(err)\n",
    "    print(\"Error Code:\", err.errno)\n",
    "    print(\"SQLSTATE\", err.sqlstate)\n",
    "    print(\"Message\", err.msg)\n",
    "cnx.close()"
   ]
  },
  {
   "cell_type": "code",
   "execution_count": null,
   "metadata": {},
   "outputs": [],
   "source": [
    "# Creamos la tabla de work_environment\n",
    "\n",
    "cnx = mysql.connector.connect(\n",
    "    user='root', \n",
    "    password='AlumnaAdalab',\n",
    "    host= '127.0.0.1', database = \"ABCemployees\",\n",
    "    port=3306\n",
    ")\n",
    "\n",
    "mycursor = cnx.cursor()\n",
    "work_environment = (\"CREATE TABLE work_environment (employee_id INT PRIMARY KEY, job_satisfaction INT, relationship_satisfaction INT, work_life_balance INT);\")\n",
    "\n",
    "try:\n",
    "    mycursor.execute(work_environment)\n",
    "    \n",
    "                                            \n",
    "    print(mycursor)\n",
    "except mysql.connector.Error as err:\n",
    "    print(err)\n",
    "    print(\"Error Code:\", err.errno)\n",
    "    print(\"SQLSTATE\", err.sqlstate)\n",
    "    print(\"Message\", err.msg)\n",
    "cnx.close()"
   ]
  },
  {
   "cell_type": "code",
   "execution_count": null,
   "metadata": {},
   "outputs": [],
   "source": [
    "# Creamos la tabla de time_management\n",
    "cnx = mysql.connector.connect(\n",
    "    user='root', \n",
    "    password='AlumnaAdalab',\n",
    "    host= '127.0.0.1', database = \"ABCemployees\",\n",
    "    port=3306\n",
    ")\n",
    "\n",
    "mycursor = cnx.cursor()\n",
    "time_management = (\"CREATE TABLE time_management (employee_id INT PRIMARY KEY, business_travel VARCHAR(40), distance_from_home INT, over_time VARCHAR(30), remote_work BOOLEAN);\")\n",
    "\n",
    "try:\n",
    "    mycursor.execute(time_management)\n",
    "    \n",
    "                                            \n",
    "    print(mycursor)\n",
    "except mysql.connector.Error as err:\n",
    "    print(err)\n",
    "    print(\"Error Code:\", err.errno)\n",
    "    print(\"SQLSTATE\", err.sqlstate)\n",
    "    print(\"Message\", err.msg)\n",
    "cnx.close()"
   ]
  },
  {
   "cell_type": "code",
   "execution_count": null,
   "metadata": {},
   "outputs": [],
   "source": [
    "# Creamos la tabla de employment_history\n",
    "cnx = mysql.connector.connect(\n",
    "    user='root', \n",
    "    password='AlumnaAdalab',\n",
    "    host= '127.0.0.1', database = \"ABCemployees\",\n",
    "    port=3306\n",
    ")\n",
    "\n",
    "mycursor = cnx.cursor()\n",
    "employement_history = (\"CREATE TABLE employement_history (employee_id INT PRIMARY KEY, total_working_years FLOAT, years_at_company INT,years_since_last_promotion INT, years_with_curr_manager INT);\")\n",
    "\n",
    "try:\n",
    "    mycursor.execute(employement_history)\n",
    "    \n",
    "                                            \n",
    "    print(mycursor)\n",
    "except mysql.connector.Error as err:\n",
    "    print(err)\n",
    "    print(\"Error Code:\", err.errno)\n",
    "    print(\"SQLSTATE\", err.sqlstate)\n",
    "    print(\"Message\", err.msg)\n",
    "cnx.close()"
   ]
  },
  {
   "cell_type": "code",
   "execution_count": null,
   "metadata": {},
   "outputs": [],
   "source": [
    "# Creamos la tabla de employee_engagement\n",
    "cnx = mysql.connector.connect(\n",
    "    user='root', \n",
    "    password='AlumnaAdalab',\n",
    "    host= '127.0.0.1', database = \"ABCemployees\",\n",
    "    port=3306\n",
    ")\n",
    "\n",
    "mycursor = cnx.cursor()\n",
    "employee_engagement = (\"CREATE TABLE  (employee_id INT PRIMARY KEY, attrition FLOAT, job_involvement INT, stock_option_level INT, training_times_last_year INT);\")\n",
    "\n",
    "try:\n",
    "    mycursor.execute(employee_engagement)\n",
    "    \n",
    "                                            \n",
    "    print(mycursor)\n",
    "except mysql.connector.Error as err:\n",
    "    print(err)\n",
    "    print(\"Error Code:\", err.errno)\n",
    "    print(\"SQLSTATE\", err.sqlstate)\n",
    "    print(\"Message\", err.msg)\n",
    "cnx.close()"
   ]
  },
  {
   "cell_type": "code",
   "execution_count": null,
   "metadata": {},
   "outputs": [],
   "source": [
    "df_table1 = df[['column1', 'column2', 'column3']]"
   ]
  }
 ],
 "metadata": {
  "kernelspec": {
   "display_name": "Python 3",
   "language": "python",
   "name": "python3"
  },
  "language_info": {
   "codemirror_mode": {
    "name": "ipython",
    "version": 3
   },
   "file_extension": ".py",
   "mimetype": "text/x-python",
   "name": "python",
   "nbconvert_exporter": "python",
   "pygments_lexer": "ipython3",
   "version": "3.11.9"
  }
 },
 "nbformat": 4,
 "nbformat_minor": 2
}
